{
 "metadata": {
  "language_info": {
   "codemirror_mode": {
    "name": "ipython",
    "version": 3
   },
   "file_extension": ".py",
   "mimetype": "text/x-python",
   "name": "python",
   "nbconvert_exporter": "python",
   "pygments_lexer": "ipython3",
   "version": "3.8.3-final"
  },
  "orig_nbformat": 2,
  "kernelspec": {
   "name": "python3",
   "display_name": "Python 3.8.3 64-bit ('Drfstudy': pipenv)",
   "metadata": {
    "interpreter": {
     "hash": "95ea799f8e420c473935649cb61c5930615a19ee767f7c823de79cf7f79092d3"
    }
   }
  }
 },
 "nbformat": 4,
 "nbformat_minor": 2,
 "cells": [
  {
   "cell_type": "code",
   "execution_count": 40,
   "metadata": {},
   "outputs": [],
   "source": [
    "import os \n",
    "os.environ.setdefault(\"DJANGO_SETTINGS_MODULE\", \"youme.settings\")\n",
    "os.environ.setdefault(\"DJANGO_ALLOW_ASYNC_UNSAFE\", 'true')\n",
    "import django\n",
    "django.setup()"
   ]
  },
  {
   "cell_type": "code",
   "execution_count": 41,
   "metadata": {},
   "outputs": [
    {
     "output_type": "execute_result",
     "data": {
      "text/plain": [
       "'[\"hello word\"]'"
      ]
     },
     "metadata": {},
     "execution_count": 41
    }
   ],
   "source": [
    "import json\n",
    "json.dumps(['hello word'])"
   ]
  },
  {
   "cell_type": "code",
   "execution_count": 42,
   "metadata": {},
   "outputs": [],
   "source": [
    "from django.contrib.auth import get_user_model"
   ]
  },
  {
   "cell_type": "code",
   "execution_count": 43,
   "metadata": {},
   "outputs": [],
   "source": [
    "User=get_user_model()"
   ]
  },
  {
   "cell_type": "code",
   "execution_count": 44,
   "metadata": {},
   "outputs": [],
   "source": [
    "qs= User.objects.all()"
   ]
  },
  {
   "cell_type": "code",
   "execution_count": 45,
   "metadata": {},
   "outputs": [],
   "source": [
    "# json.dumps(qs)\n"
   ]
  },
  {
   "cell_type": "code",
   "execution_count": 46,
   "metadata": {},
   "outputs": [
    {
     "output_type": "execute_result",
     "data": {
      "text/plain": [
       "'\"\\\\ud55c\\\\uae00\"'"
      ]
     },
     "metadata": {},
     "execution_count": 46
    }
   ],
   "source": [
    "json.dumps('한글')"
   ]
  },
  {
   "cell_type": "code",
   "execution_count": 47,
   "metadata": {},
   "outputs": [
    {
     "output_type": "execute_result",
     "data": {
      "text/plain": [
       "'d55c'"
      ]
     },
     "metadata": {},
     "execution_count": 47
    }
   ],
   "source": [
    "'%x' % ord('한')"
   ]
  },
  {
   "cell_type": "code",
   "execution_count": 48,
   "metadata": {},
   "outputs": [
    {
     "output_type": "execute_result",
     "data": {
      "text/plain": [
       "'ae00'"
      ]
     },
     "metadata": {},
     "execution_count": 48
    }
   ],
   "source": [
    "'%x' % ord('글')"
   ]
  },
  {
   "cell_type": "code",
   "execution_count": 49,
   "metadata": {},
   "outputs": [
    {
     "output_type": "execute_result",
     "data": {
      "text/plain": [
       "'\"한글\"'"
      ]
     },
     "metadata": {},
     "execution_count": 49
    }
   ],
   "source": [
    "json.dumps('한글',ensure_ascii=False)"
   ]
  },
  {
   "cell_type": "code",
   "execution_count": 50,
   "metadata": {},
   "outputs": [
    {
     "output_type": "execute_result",
     "data": {
      "text/plain": [
       "b'\"\\xed\\x95\\x9c\\xea\\xb8\\x80\"'"
      ]
     },
     "metadata": {},
     "execution_count": 50
    }
   ],
   "source": [
    "json.dumps('한글',ensure_ascii=False).encode('utf8')"
   ]
  },
  {
   "cell_type": "code",
   "execution_count": 51,
   "metadata": {},
   "outputs": [],
   "source": [
    "from instagram.serializers import PostSerializer\n",
    "from instagram.forms import PostForm\n",
    "from instagram.models import Post"
   ]
  },
  {
   "cell_type": "code",
   "execution_count": 52,
   "metadata": {},
   "outputs": [],
   "source": [
    "serializer=PostSerializer(Post.objects.first())"
   ]
  },
  {
   "cell_type": "code",
   "execution_count": 53,
   "metadata": {},
   "outputs": [
    {
     "output_type": "execute_result",
     "data": {
      "text/plain": [
       "{'pk': 1, 'message': '안녕하세요 1번째 포스팅', 'created_at': '2021-03-07T15:49:01.770277Z', 'updated_at': '2021-03-07T15:49:01.770311Z'}"
      ]
     },
     "metadata": {},
     "execution_count": 53
    }
   ],
   "source": [
    "serializer.data"
   ]
  },
  {
   "cell_type": "code",
   "execution_count": 54,
   "metadata": {},
   "outputs": [],
   "source": [
    "# form=PostForm(instance=Post.objects.first())\n",
    "# form.as_table()"
   ]
  },
  {
   "cell_type": "code",
   "execution_count": 55,
   "metadata": {},
   "outputs": [],
   "source": [
    "serializer=PostSerializer(Post.objects.all(),many=True)"
   ]
  },
  {
   "cell_type": "code",
   "execution_count": 56,
   "metadata": {},
   "outputs": [
    {
     "output_type": "execute_result",
     "data": {
      "text/plain": [
       "[OrderedDict([('pk', 1), ('message', '안녕하세요 1번째 포스팅'), ('created_at', '2021-03-07T15:49:01.770277Z'), ('updated_at', '2021-03-07T15:49:01.770311Z')]), OrderedDict([('pk', 2), ('message', 'second posting'), ('created_at', '2021-03-07T15:57:14.142350Z'), ('updated_at', '2021-03-07T15:57:14.142376Z')]), OrderedDict([('pk', 3), ('message', '111123123123'), ('created_at', '2021-03-07T16:03:38.866088Z'), ('updated_at', '2021-03-07T16:03:38.866123Z')]), OrderedDict([('pk', 4), ('message', '12321412341234'), ('created_at', '2021-03-07T16:04:19.837076Z'), ('updated_at', '2021-03-07T16:04:19.837102Z')]), OrderedDict([('pk', 5), ('message', 'hihi'), ('created_at', '2021-03-07T16:05:50.716680Z'), ('updated_at', '2021-03-07T16:05:50.716711Z')]), OrderedDict([('pk', 6), ('message', 'hihi'), ('created_at', '2021-03-07T16:06:03.421681Z'), ('updated_at', '2021-03-07T16:06:03.421709Z')])]"
      ]
     },
     "metadata": {},
     "execution_count": 56
    }
   ],
   "source": [
    "serializer.data"
   ]
  },
  {
   "cell_type": "code",
   "execution_count": 57,
   "metadata": {},
   "outputs": [
    {
     "output_type": "execute_result",
     "data": {
      "text/plain": [
       "'[{\"pk\": 1, \"message\": \"\\\\uc548\\\\ub155\\\\ud558\\\\uc138\\\\uc694 1\\\\ubc88\\\\uc9f8 \\\\ud3ec\\\\uc2a4\\\\ud305\", \"created_at\": \"2021-03-07T15:49:01.770277Z\", \"updated_at\": \"2021-03-07T15:49:01.770311Z\"}, {\"pk\": 2, \"message\": \"second posting\", \"created_at\": \"2021-03-07T15:57:14.142350Z\", \"updated_at\": \"2021-03-07T15:57:14.142376Z\"}, {\"pk\": 3, \"message\": \"111123123123\", \"created_at\": \"2021-03-07T16:03:38.866088Z\", \"updated_at\": \"2021-03-07T16:03:38.866123Z\"}, {\"pk\": 4, \"message\": \"12321412341234\", \"created_at\": \"2021-03-07T16:04:19.837076Z\", \"updated_at\": \"2021-03-07T16:04:19.837102Z\"}, {\"pk\": 5, \"message\": \"hihi\", \"created_at\": \"2021-03-07T16:05:50.716680Z\", \"updated_at\": \"2021-03-07T16:05:50.716711Z\"}, {\"pk\": 6, \"message\": \"hihi\", \"created_at\": \"2021-03-07T16:06:03.421681Z\", \"updated_at\": \"2021-03-07T16:06:03.421709Z\"}]'"
      ]
     },
     "metadata": {},
     "execution_count": 57
    }
   ],
   "source": [
    "json.dumps(serializer.data)"
   ]
  },
  {
   "cell_type": "code",
   "execution_count": null,
   "metadata": {},
   "outputs": [],
   "source": []
  }
 ]
}